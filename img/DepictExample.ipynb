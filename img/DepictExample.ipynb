{
 "cells": [
  {
   "cell_type": "code",
   "execution_count": null,
   "id": "f1d21237",
   "metadata": {},
   "outputs": [],
   "source": [
    "import matplotlib\n",
    "import matplotlib.pyplot as plt\n",
    "%matplotlib inline\n",
    "import seaborn as sns\n",
    "import pandas as pd\n",
    "import numpy as np"
   ]
  },
  {
   "cell_type": "code",
   "execution_count": null,
   "id": "636c51ae",
   "metadata": {},
   "outputs": [],
   "source": [
    "files = {\n",
    "    'AdaBoost': 'adaboost.csv',\n",
    "    'AdaBoostV': 'adaboostv.csv',\n",
    "    'SmoothBoost': 'smoothboost.csv',\n",
    "    'TotalBoost': 'totalboost.csv',\n",
    "    'SoftBoost': 'softboost.csv',\n",
    "    'MLPBoost': 'mlpboost.csv',\n",
    "    'LPBoost': 'lpboost.csv',\n",
    "    'ERLPBoost': 'erlpboost.csv',\n",
    "    'CERLPBoost': 'cerlpboost.csv',\n",
    "}\n",
    "\n",
    "colors = {\n",
    "    'AdaBoost': 'firebrick',\n",
    "    'AdaBoostV': 'gold',\n",
    "    'SmoothBoost': 'lightseagreen',\n",
    "    'TotalBoost': 'black',\n",
    "    'SoftBoost': 'mediumorchid',\n",
    "    'LPBoost': 'deepskyblue',\n",
    "    'ERLPBoost': 'forestgreen',\n",
    "    'CERLPBoost': 'olive',\n",
    "    'MLPBoost': 'orangered',\n",
    "}"
   ]
  },
  {
   "cell_type": "code",
   "execution_count": null,
   "id": "0ab42b4d",
   "metadata": {},
   "outputs": [],
   "source": [
    "intercept = 3\n",
    "plt.rcParams[\"font.family\"] = \"Source Code Pro\"\n",
    "\n",
    "fig = plt.figure(figsize=(18, 6))\n",
    "ax = fig.add_subplot(111)\n",
    "\n",
    "for booster, file in files.items():\n",
    "    df = pd.read_csv(f'csv/{file}')\n",
    "    n_iter = min(df.shape[0], 300)\n",
    "    x = np.arange(1, n_iter+1, intercept)\n",
    "    y = df['TrainLoss'].iloc[:n_iter:intercept]\n",
    "    ax.plot(x, y, label=booster, color=colors[booster], linewidth=1.0, marker='o', markerfacecolor='white')\n",
    "\n",
    "ax.set_xlim(0.0, 250.0)\n",
    "ax.set_ylim(-1e-2, 0.63)\n",
    "ax.set_ylabel('Training loss', fontsize=16)\n",
    "ax.set_xlabel('Iterations', fontsize=16)\n",
    "ax.set_title('0/1-loss for Breast Cancer dataset', fontsize=16)\n",
    "ax.legend()\n",
    "\n",
    "plt.savefig('./example.png')"
   ]
  },
  {
   "cell_type": "code",
   "execution_count": null,
   "id": "ee928324",
   "metadata": {},
   "outputs": [],
   "source": []
  }
 ],
 "metadata": {
  "kernelspec": {
   "display_name": "Python 3 (ipykernel)",
   "language": "python",
   "name": "python3"
  },
  "language_info": {
   "codemirror_mode": {
    "name": "ipython",
    "version": 3
   },
   "file_extension": ".py",
   "mimetype": "text/x-python",
   "name": "python",
   "nbconvert_exporter": "python",
   "pygments_lexer": "ipython3",
   "version": "3.9.10"
  }
 },
 "nbformat": 4,
 "nbformat_minor": 5
}
